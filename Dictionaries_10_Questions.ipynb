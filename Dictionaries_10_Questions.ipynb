{
 "cells": [
  {
   "cell_type": "markdown",
   "id": "2fe661fe-1e97-4c7e-83ec-862379809cb1",
   "metadata": {},
   "source": [
    "# Dictionaries"
   ]
  },
  {
   "cell_type": "code",
   "execution_count": 20,
   "id": "7f0fcde7-fb96-48f6-be5e-0a8adb856bab",
   "metadata": {},
   "outputs": [
    {
     "name": "stdout",
     "output_type": "stream",
     "text": [
      "Sorted keys: {'apple': 3, 'banana': 2, 'grapes': 4, 'watermelon': 5}\n"
     ]
    }
   ],
   "source": [
    "# 1.Python program to sort python dictionaries by keys.\n",
    "my_dict={'banana': 2,'apple': 3,'watermelon': 5,'grapes': 4}\n",
    "sorted_dict=dict(sorted(my_dict.items()))\n",
    "print(\"Sorted keys:\",sorted_dict)"
   ]
  },
  {
   "cell_type": "code",
   "execution_count": 21,
   "id": "a1bb6faa-4502-4ea4-ad69-91e9795281e1",
   "metadata": {},
   "outputs": [
    {
     "name": "stdout",
     "output_type": "stream",
     "text": [
      "sorted values: {'cherry': 2, 'kiwi': 4, 'muskmelon': 5}\n"
     ]
    }
   ],
   "source": [
    "# 2.Python program to sort python dictionaries by values.\n",
    "my_dict={'cherry':2,'kiwi':4,'muskmelon':5}\n",
    "sorted_dict=dict(sorted(my_dict.items(), key=lambda item: item[1]))\n",
    "print(\"sorted values:\",sorted_dict)"
   ]
  },
  {
   "cell_type": "code",
   "execution_count": 22,
   "id": "5b44f867-5fa2-4e83-b5da-c6d56fa14f06",
   "metadata": {},
   "outputs": [
    {
     "name": "stdout",
     "output_type": "stream",
     "text": [
      "Sum of all dictionaries: 12\n"
     ]
    }
   ],
   "source": [
    "# 3.Python program to find the sum of all items in a dictionary.\n",
    "my_dict={'sahil':3,'hamad':4,'samad':5}\n",
    "print(\"Sum of all dictionaries:\",sum(my_dict.values()))"
   ]
  },
  {
   "cell_type": "code",
   "execution_count": 26,
   "id": "379068d5-ad4f-44cb-ad86-672c5aef91e7",
   "metadata": {},
   "outputs": [
    {
     "name": "stdout",
     "output_type": "stream",
     "text": [
      "Removed key: {'a': 32, 'c': 2}\n"
     ]
    }
   ],
   "source": [
    "#4.Python program to remove a key from a dictionary\n",
    "my_dict={'a':32,'c':2,'d':8}\n",
    "key_to_remove='d'\n",
    "my_dict.pop(key_to_remove, None)\n",
    "print(\"Removed key:\",my_dict)\n"
   ]
  },
  {
   "cell_type": "code",
   "execution_count": 28,
   "id": "38cf89e8-e387-4e27-b7f6-b33fb3c31f05",
   "metadata": {},
   "outputs": [
    {
     "name": "stdout",
     "output_type": "stream",
     "text": [
      "Merged dictionaries: {'a': 32, 'c': 2, 'd': 8, 'sahil': 3, 'hamad': 4, 'samad': 5}\n"
     ]
    }
   ],
   "source": [
    "# 5.Python program to merge two Dictionaries\n",
    "my_dict={'a':32,'c':2,'d':8}\n",
    "my_dict_1={'sahil':3,'hamad':4,'samad':5}\n",
    "merged={**my_dict,**my_dict_1}\n",
    "print(\"Merged dictionaries:\",merged)"
   ]
  },
  {
   "cell_type": "code",
   "execution_count": 1,
   "id": "e31e3fad-80e0-47b9-921f-14c21c460fb5",
   "metadata": {},
   "outputs": [
    {
     "name": "stdout",
     "output_type": "stream",
     "text": [
      "{'Name': 'sahil', 'Age': 21, 'Designation': 'Data Analyst'}\n"
     ]
    }
   ],
   "source": [
    "# 6.Create a dictionary from a list.\n",
    "key=['Name','Age','Designation']\n",
    "value=['sahil',21,'Data Analyst']\n",
    "result=dict(zip(key,value))\n",
    "print(result)"
   ]
  },
  {
   "cell_type": "code",
   "execution_count": 6,
   "id": "ed90e202-fa03-47f1-a802-267d1f2cb091",
   "metadata": {},
   "outputs": [
    {
     "name": "stdout",
     "output_type": "stream",
     "text": [
      "Dictionary : {'Name': 'Sahil', 'Age': 21, 'City': 'Pune'}\n"
     ]
    }
   ],
   "source": [
    "# 7.Create a dictionary from a tuple.\n",
    "key=('Name','Age','City')\n",
    "value=('Sahil',21,'Pune')\n",
    "res=dict(zip(key,value))\n",
    "print('Dictionary :',res)"
   ]
  },
  {
   "cell_type": "code",
   "execution_count": 7,
   "id": "7853bf0e-732d-4fb3-8cf5-645eb0afde45",
   "metadata": {},
   "outputs": [
    {
     "name": "stdout",
     "output_type": "stream",
     "text": [
      "{'apple': 2, 'banana': 1, 'cherry': 1, 'mango': 1}\n"
     ]
    }
   ],
   "source": [
    "# 8.Count frequency of each element in a list.\n",
    "data=['apple','banana','cherry','apple','mango']\n",
    "freq={}\n",
    "for item in data:\n",
    "    freq[item]=freq.get(item,0)+1\n",
    "print(freq)"
   ]
  },
  {
   "cell_type": "code",
   "execution_count": 12,
   "id": "30313751-fb7b-4bb3-bb46-8bfb78b0051e",
   "metadata": {},
   "outputs": [
    {
     "name": "stdout",
     "output_type": "stream",
     "text": [
      "Keys: dict_keys(['a', 'b', 'c', 'd'])\n",
      "Keys: dict_values([2, 3, 5, 7])\n"
     ]
    }
   ],
   "source": [
    "# 9.Print Keys an Values separately.\n",
    "d={'a':2,'b':3,'c':5,'d':7}\n",
    "print(\"Keys:\",d.keys())\n",
    "print(\"Keys:\",d.values())"
   ]
  },
  {
   "cell_type": "code",
   "execution_count": 13,
   "id": "733a4265-fda5-446e-a96d-070364e805a8",
   "metadata": {},
   "outputs": [
    {
     "name": "stdout",
     "output_type": "stream",
     "text": [
      "95\n",
      "{'Name': 'John', 'Marks': {'Math': 95, 'Science': 43}}\n"
     ]
    }
   ],
   "source": [
    "# 10.Nested dictionary Access and Update.\n",
    "student={\n",
    "    'Name':'John',\n",
    "    'Marks':{'Math':95,'Science':96}\n",
    "}\n",
    "print(student['Marks']['Math'])\n",
    "student['Marks']['Science']=43\n",
    "print(student)"
   ]
  },
  {
   "cell_type": "code",
   "execution_count": null,
   "id": "6b9adcf8-b10f-428f-b164-f1afc687eb50",
   "metadata": {},
   "outputs": [],
   "source": []
  }
 ],
 "metadata": {
  "kernelspec": {
   "display_name": "Python 3 (ipykernel)",
   "language": "python",
   "name": "python3"
  },
  "language_info": {
   "codemirror_mode": {
    "name": "ipython",
    "version": 3
   },
   "file_extension": ".py",
   "mimetype": "text/x-python",
   "name": "python",
   "nbconvert_exporter": "python",
   "pygments_lexer": "ipython3",
   "version": "3.10.16"
  }
 },
 "nbformat": 4,
 "nbformat_minor": 5
}
