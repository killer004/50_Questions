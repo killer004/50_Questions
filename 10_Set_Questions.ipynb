{
 "cells": [
  {
   "cell_type": "markdown",
   "id": "63bee6f7-b4fb-4fc0-9488-a8f0385f82f0",
   "metadata": {},
   "source": [
    "# Sets"
   ]
  },
  {
   "cell_type": "code",
   "execution_count": 31,
   "id": "76b4d722-657a-43c2-9a73-79fbcef85273",
   "metadata": {},
   "outputs": [
    {
     "name": "stdout",
     "output_type": "stream",
     "text": [
      "[1, 2, 3, 4, 5, 6]\n",
      "['c', 'a', 'e', 'd']\n"
     ]
    }
   ],
   "source": [
    "#1.Remove duplicates from a List using a sets? \n",
    "def remove_duplicates(lst):\n",
    "    return list(set(lst))\n",
    "numbers=[1,2,3,4,4,3,2,2,2,5,6]\n",
    "numb=['a','e','a','c','d']\n",
    "print(remove_duplicates(numbers))\n",
    "print(remove_duplicates(numb))"
   ]
  },
  {
   "cell_type": "code",
   "execution_count": 32,
   "id": "dabc07dc-54ef-4c41-ab72-eaf220db4fb5",
   "metadata": {},
   "outputs": [
    {
     "name": "stdout",
     "output_type": "stream",
     "text": [
      "[3, 4]\n"
     ]
    }
   ],
   "source": [
    "# 2.Find Common Elements in Two Lists(Intersection)\n",
    "def common_elements(list1, list2):\n",
    "    return list(set(list1) & set(list2))\n",
    "\n",
    "list_a=[1,2,3,4]\n",
    "list_b=[3,4,5,6,]\n",
    "print(common_elements(list_a,list_b))"
   ]
  },
  {
   "cell_type": "code",
   "execution_count": 33,
   "id": "4d01e196-d301-4649-a686-3730f6ca0a8b",
   "metadata": {},
   "outputs": [
    {
     "name": "stdout",
     "output_type": "stream",
     "text": [
      "False\n"
     ]
    }
   ],
   "source": [
    "# 3.Check if a list is a Subset of Another list?\n",
    "def is_subset(list1,list2):\n",
    "    return set(list1).issubset(set(list2))\n",
    "\n",
    "list1=[7,8]\n",
    "list2=[1,2,3,4]\n",
    "print(is_subset(list1,list2))"
   ]
  },
  {
   "cell_type": "code",
   "execution_count": 34,
   "id": "a2f9b403-c6bf-44b2-8aa5-9926c2fae1ae",
   "metadata": {},
   "outputs": [
    {
     "name": "stdout",
     "output_type": "stream",
     "text": [
      "[1, 2, 4, 5]\n"
     ]
    }
   ],
   "source": [
    "# 4.Find Symmetric Difference (unique in Either list but not in both)\n",
    "def symmetric_diff(list1,list2):\n",
    "    return list(set(list1) ^ set(list2))\n",
    "\n",
    "list1=[1,2,3]\n",
    "list2=[3,4,5]\n",
    "print(symmetric_diff(list1,list2))"
   ]
  },
  {
   "cell_type": "code",
   "execution_count": 35,
   "id": "bf4b7384-a975-4202-974e-bbb06a4ceb61",
   "metadata": {},
   "outputs": [
    {
     "name": "stdout",
     "output_type": "stream",
     "text": [
      "3\n",
      "6\n"
     ]
    }
   ],
   "source": [
    "# 5.Count Unique words in a sentence?\n",
    "def count_unique_words(sentence):\n",
    "    words = sentence.split()\n",
    "    return len(set(words))\n",
    "\n",
    "sentence =\"hello world hello python world\"\n",
    "sent=\"work on your dataset,work with applications,working\"\n",
    "print(count_unique_words(sentence))\n",
    "print(count_unique_words(sent))"
   ]
  },
  {
   "cell_type": "code",
   "execution_count": 36,
   "id": "6376bc17-3d62-4b57-ae40-483b198c42a2",
   "metadata": {},
   "outputs": [
    {
     "name": "stdout",
     "output_type": "stream",
     "text": [
      "False\n"
     ]
    }
   ],
   "source": [
    "# 6.Find Missing Alphabet letters(Pangram Check)\n",
    "import string \n",
    "def is_pangram(s):\n",
    "    alphabet=set(string.ascii_lowercase)\n",
    "    return set(s.lower()) >= alphabet\n",
    "\n",
    "test_str=\"THE QUICK BROWN FOX\"#\"The quick brown Fox jumps over the lazy dog\"\n",
    "print(is_pangram(test_str))"
   ]
  },
  {
   "cell_type": "code",
   "execution_count": 37,
   "id": "3db5cf3c-63ad-473a-90e0-2189087d2cd2",
   "metadata": {},
   "outputs": [
    {
     "name": "stdout",
     "output_type": "stream",
     "text": [
      "[('c', 'a', 'b'), ('a', 'b', 'c'), ('b', 'c', 'a'), ('b', 'a', 'c'), ('c', 'b', 'a'), ('a', 'c', 'b')]\n"
     ]
    }
   ],
   "source": [
    "# 7.Find All Unique Permutations of a List?\n",
    "from itertools import permutations\n",
    "\n",
    "def unique_permutations(lst):\n",
    "    return list(set(permutations(lst)))\n",
    "\n",
    "print(unique_permutations(['a','b','c']))"
   ]
  },
  {
   "cell_type": "code",
   "execution_count": 38,
   "id": "d1098e1b-bf63-4f77-8700-67b969dc615e",
   "metadata": {},
   "outputs": [
    {
     "name": "stdout",
     "output_type": "stream",
     "text": [
      "{1, 2, 3, 4, 5}\n",
      "{1, 2}\n",
      "{3}\n"
     ]
    }
   ],
   "source": [
    "# 8.Set Operations(Union,Difference,Intersection)\n",
    "A={1,2,3}\n",
    "B={3,4,5}\n",
    "\n",
    "print(A|B)\n",
    "print(A - B)\n",
    "print(A&B)"
   ]
  },
  {
   "cell_type": "code",
   "execution_count": 39,
   "id": "d62d1415-e274-4113-aef0-b8b14735530e",
   "metadata": {},
   "outputs": [
    {
     "name": "stdout",
     "output_type": "stream",
     "text": [
      "1\n"
     ]
    }
   ],
   "source": [
    "# Find the longest Substring Without Repeating Characters?\n",
    "def longest_unique_substring(s):\n",
    "    char_set= set()\n",
    "    left=max_len=0\n",
    "\n",
    "    for right in range(len(s)):\n",
    "        while s[right] in char_set:\n",
    "            char_set.remove(s[left])\n",
    "            left += 1\n",
    "        char_set.add(s[right])\n",
    "        max_len=max(max_len,right -left + 1)\n",
    "        return max_len\n",
    "print(longest_unique_substring(\"abcabcbb\"))"
   ]
  },
  {
   "cell_type": "code",
   "execution_count": 40,
   "id": "f5d65c09-f992-497c-901d-0cb6ada5c759",
   "metadata": {},
   "outputs": [
    {
     "name": "stdout",
     "output_type": "stream",
     "text": [
      "True\n"
     ]
    }
   ],
   "source": [
    "# Check if Two Strings are Anagrams Using Sets?\n",
    "def are_anagrams(str1,str2):\n",
    "    return set(str1) == set(str2) and len(str1)==len(str2)\n",
    "print(are_anagrams(\"listen\",\"silent\"))"
   ]
  }
 ],
 "metadata": {
  "kernelspec": {
   "display_name": "Python 3 (ipykernel)",
   "language": "python",
   "name": "python3"
  },
  "language_info": {
   "codemirror_mode": {
    "name": "ipython",
    "version": 3
   },
   "file_extension": ".py",
   "mimetype": "text/x-python",
   "name": "python",
   "nbconvert_exporter": "python",
   "pygments_lexer": "ipython3",
   "version": "3.10.16"
  }
 },
 "nbformat": 4,
 "nbformat_minor": 5
}
