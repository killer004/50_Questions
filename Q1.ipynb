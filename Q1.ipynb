{
 "cells": [
  {
   "cell_type": "markdown",
   "id": "96ac5a3b-e2a1-47ea-b360-4f87eae4b7aa",
   "metadata": {},
   "source": [
    "# Largest Element in the List"
   ]
  },
  {
   "cell_type": "code",
   "execution_count": 7,
   "id": "a426fc67-daff-4508-bd45-dc0a81890618",
   "metadata": {},
   "outputs": [
    {
     "name": "stdout",
     "output_type": "stream",
     "text": [
      "largest Element: 78\n"
     ]
    }
   ],
   "source": [
    "l=[12,33,31,21,78]\n",
    "max_val=l[0]\n",
    "for num in l:\n",
    "    if num > max_val:\n",
    "        max_val= num\n",
    "print(\"largest Element:\",max_val)    "
   ]
  },
  {
   "cell_type": "code",
   "execution_count": null,
   "id": "4b04b886-8230-40b7-a46b-2517beb066b6",
   "metadata": {},
   "outputs": [],
   "source": []
  }
 ],
 "metadata": {
  "kernelspec": {
   "display_name": "Python 3 (ipykernel)",
   "language": "python",
   "name": "python3"
  },
  "language_info": {
   "codemirror_mode": {
    "name": "ipython",
    "version": 3
   },
   "file_extension": ".py",
   "mimetype": "text/x-python",
   "name": "python",
   "nbconvert_exporter": "python",
   "pygments_lexer": "ipython3",
   "version": "3.10.16"
  }
 },
 "nbformat": 4,
 "nbformat_minor": 5
}
