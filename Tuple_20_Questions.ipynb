{
 "cells": [
  {
   "cell_type": "markdown",
   "id": "4a4918f2-3d67-4e5b-a944-1e891bd948bc",
   "metadata": {},
   "source": [
    "# Tuple"
   ]
  },
  {
   "cell_type": "code",
   "execution_count": 4,
   "id": "70bf23d3-79a4-49ef-bb04-bbbe06b44710",
   "metadata": {},
   "outputs": [
    {
     "name": "stdout",
     "output_type": "stream",
     "text": [
      "<class 'tuple'>\n",
      "(1, 2, 3, 4, 5)\n"
     ]
    }
   ],
   "source": [
    "# 1.Create a tuple?\n",
    "t=(1,2,3,4,5)\n",
    "print(type(t))\n",
    "print(t)"
   ]
  },
  {
   "cell_type": "code",
   "execution_count": 17,
   "id": "11d7cf02-6186-4fdd-a60f-4053fc2b1208",
   "metadata": {},
   "outputs": [
    {
     "name": "stdout",
     "output_type": "stream",
     "text": [
      "3 2\n"
     ]
    }
   ],
   "source": [
    "# 2.Access Elements from tuple?\n",
    "t=(2,45,63,3,2)\n",
    "print(t[3], t[-1])"
   ]
  },
  {
   "cell_type": "code",
   "execution_count": 25,
   "id": "8d758522-b677-4af6-ad31-127caee1f942",
   "metadata": {},
   "outputs": [
    {
     "name": "stdout",
     "output_type": "stream",
     "text": [
      "(1, 'apple', 3.2, [2, 1])\n",
      "3.2\n",
      "<class 'float'>\n"
     ]
    }
   ],
   "source": [
    "# 3.Tuple with Mixed datatype?\n",
    "t=(1,'apple',3.2,[2,1])\n",
    "print(t)\n",
    "print(t[2])\n",
    "print(type(t[2]))"
   ]
  },
  {
   "cell_type": "code",
   "execution_count": 30,
   "id": "2dd77415-380b-4b2a-ba1f-2c843550c9fa",
   "metadata": {},
   "outputs": [
    {
     "name": "stdout",
     "output_type": "stream",
     "text": [
      "(2, 3, 22) (2, 3, 22) (2, 3, 22)\n"
     ]
    }
   ],
   "source": [
    "# 4.unpack a tuple?\n",
    "t=(2,3,22)\n",
    "a=b=c=t\n",
    "print(a,b,c)"
   ]
  },
  {
   "cell_type": "code",
   "execution_count": 32,
   "id": "644b2525-f0ff-4bd3-9334-825b814fdbd2",
   "metadata": {},
   "outputs": [
    {
     "name": "stdout",
     "output_type": "stream",
     "text": [
      "True\n"
     ]
    }
   ],
   "source": [
    "# 5.Check if element exists in tuple?\n",
    "t=(5,4,22,2)\n",
    "print(22 in t)"
   ]
  },
  {
   "cell_type": "code",
   "execution_count": 34,
   "id": "1ebcae05-1729-4381-9499-96351a3696ab",
   "metadata": {},
   "outputs": [
    {
     "name": "stdout",
     "output_type": "stream",
     "text": [
      "('a', 'b', 'd')\n",
      "('a', 'b', 'd')\n",
      "('a', 'b', 'd')\n"
     ]
    }
   ],
   "source": [
    "# 6.Iterate over tuple?\n",
    "t=('a','b','d')\n",
    "for item in t:\n",
    "    print(t)"
   ]
  },
  {
   "cell_type": "code",
   "execution_count": 35,
   "id": "d6c5cb9e-cbeb-459f-9fa6-3d38ce5acf9d",
   "metadata": {},
   "outputs": [
    {
     "name": "stdout",
     "output_type": "stream",
     "text": [
      "(2, 3, 4, 23.2, 'a', 2)\n"
     ]
    }
   ],
   "source": [
    "# 7.tuple concatenation?\n",
    "t=(2,3,4)\n",
    "t1=(23.2,'a',2)\n",
    "c=t+t1\n",
    "print(c)"
   ]
  },
  {
   "cell_type": "code",
   "execution_count": 36,
   "id": "54211923-f692-43f4-bccc-4c900b7003d4",
   "metadata": {},
   "outputs": [
    {
     "name": "stdout",
     "output_type": "stream",
     "text": [
      "(3, 2, 4, 2, 2, 3, 2, 4, 2, 2)\n"
     ]
    }
   ],
   "source": [
    "# 8.tuple repetition?\n",
    "t=(3,2,4,2,2)\n",
    "print(t * 2)"
   ]
  },
  {
   "cell_type": "code",
   "execution_count": 37,
   "id": "74f7a083-c0d5-4a17-8a54-e4e4d33baf56",
   "metadata": {},
   "outputs": [
    {
     "name": "stdout",
     "output_type": "stream",
     "text": [
      "(3.0, 23, 2, 4, 5)\n"
     ]
    }
   ],
   "source": [
    "# 9.Convert list to tuple?\n",
    "lst=[3.,23,2,4,5]\n",
    "t=tuple(lst)\n",
    "print(t)"
   ]
  },
  {
   "cell_type": "code",
   "execution_count": 38,
   "id": "9bb1fc51-6610-4b13-94e7-b83efe1731d5",
   "metadata": {},
   "outputs": [
    {
     "name": "stdout",
     "output_type": "stream",
     "text": [
      "[3, 2, 5, 6, 76]\n"
     ]
    }
   ],
   "source": [
    "# 10.Convert tuple to list?\n",
    "t=(3,2,5,6,76)\n",
    "l=list(t)\n",
    "print(l)"
   ]
  },
  {
   "cell_type": "code",
   "execution_count": 43,
   "id": "b06a8589-59fd-4e21-9aa8-1e8745b89afb",
   "metadata": {},
   "outputs": [
    {
     "name": "stdout",
     "output_type": "stream",
     "text": [
      "2\n"
     ]
    }
   ],
   "source": [
    "# 11.Find index of an element?\n",
    "t=(3,2,4,21)\n",
    "print(t.index(4))"
   ]
  },
  {
   "cell_type": "code",
   "execution_count": 45,
   "id": "9f39bf85-2885-44f5-a1e1-f6113fbc7ec6",
   "metadata": {},
   "outputs": [
    {
     "name": "stdout",
     "output_type": "stream",
     "text": [
      "3\n"
     ]
    }
   ],
   "source": [
    "# 12.Count occurrence in tuple?\n",
    "t=(2,3,4,5,2,3,4,2)\n",
    "print(t.count(2))"
   ]
  },
  {
   "cell_type": "code",
   "execution_count": 46,
   "id": "bdd84762-6071-4a85-8fc4-1bce1896eed1",
   "metadata": {},
   "outputs": [
    {
     "name": "stdout",
     "output_type": "stream",
     "text": [
      "2 9\n"
     ]
    }
   ],
   "source": [
    "# 13.find max and min in tuple?\n",
    "t=(3,2,5,6,7,9,4)\n",
    "print(min(t),max(t))"
   ]
  },
  {
   "cell_type": "code",
   "execution_count": 50,
   "id": "2833cd17-2dba-4b73-99c8-1d9939ae7197",
   "metadata": {},
   "outputs": [
    {
     "name": "stdout",
     "output_type": "stream",
     "text": [
      "(3, 6, 7, 8, 45, 73)\n"
     ]
    }
   ],
   "source": [
    "# 14.Sort a tuple\n",
    "t=(73,3,45,6,7,8)\n",
    "sorted_t=tuple(sorted(t))\n",
    "print(sorted_t)"
   ]
  },
  {
   "cell_type": "code",
   "execution_count": 51,
   "id": "f861f211-187f-4d77-9cc0-994f4257342a",
   "metadata": {},
   "outputs": [
    {
     "name": "stdout",
     "output_type": "stream",
     "text": [
      "(2, 4)\n"
     ]
    }
   ],
   "source": [
    "# 15.Slice a tuple?\n",
    "t=(3,2,4,5,3)\n",
    "print(t[1:3])"
   ]
  },
  {
   "cell_type": "code",
   "execution_count": 54,
   "id": "98bbbe4d-8f1b-47ea-96a3-9a75aa24fc0f",
   "metadata": {},
   "outputs": [
    {
     "name": "stdout",
     "output_type": "stream",
     "text": [
      "(1, 2, (8, 7, 3), 42)\n"
     ]
    }
   ],
   "source": [
    "# 16.Nested tuple?\n",
    "t=(1,2,(8,7,3),42)\n",
    "print(t)"
   ]
  },
  {
   "cell_type": "code",
   "execution_count": 71,
   "id": "9b80d173-50a0-49a6-9f93-e6666e35d816",
   "metadata": {},
   "outputs": [
    {
     "name": "stdout",
     "output_type": "stream",
     "text": [
      "a: (3, 5, 2) b: (6, 5, 3)\n"
     ]
    }
   ],
   "source": [
    "# 17.Swap tuples?\n",
    "a=(6,5,3)\n",
    "b=(3,5,2)\n",
    "a,b=b,a\n",
    "print(\"a:\", a, \"b:\", b)\n"
   ]
  },
  {
   "cell_type": "code",
   "execution_count": null,
   "id": "784e8c53-d137-4cac-b5e4-7f734a0471af",
   "metadata": {},
   "outputs": [],
   "source": []
  },
  {
   "cell_type": "code",
   "execution_count": 76,
   "id": "9ff51e70-f324-4f3c-ae2e-794ed44ee3f1",
   "metadata": {
    "jp-MarkdownHeadingCollapsed": true
   },
   "outputs": [
    {
     "name": "stdout",
     "output_type": "stream",
     "text": [
      "<class 'tuple'>\n"
     ]
    }
   ],
   "source": [
    "# 18.tuple with a single unit?\n",
    "a=(10,)\n",
    "print(type(a))"
   ]
  },
  {
   "cell_type": "code",
   "execution_count": 77,
   "id": "d5048b3a-90b3-4e18-9051-86c9bf81c37e",
   "metadata": {},
   "outputs": [
    {
     "name": "stdout",
     "output_type": "stream",
     "text": [
      "(2, 3, 4)\n"
     ]
    }
   ],
   "source": [
    "# 19.Merge tuples and remove duplicates?\n",
    "t=(3,2,4)\n",
    "t1=(2,3)\n",
    "m=tuple(set(t+t1))\n",
    "print(m)"
   ]
  },
  {
   "cell_type": "code",
   "execution_count": 78,
   "id": "6b34a0f1-bb38-4a40-8ab3-3a8e44c3e51d",
   "metadata": {},
   "outputs": [
    {
     "name": "stdout",
     "output_type": "stream",
     "text": [
      "a=3,b=5\n",
      "a=2,b=6\n",
      "a=7,b=4\n"
     ]
    }
   ],
   "source": [
    "# 20.Tuple of tuples-Accessing Inner elements?\n",
    "t=((3,5),(2,6),(7,4))\n",
    "for a,b in t:\n",
    "    print(f\"a={a},b={b}\")\n"
   ]
  }
 ],
 "metadata": {
  "kernelspec": {
   "display_name": "Python 3 (ipykernel)",
   "language": "python",
   "name": "python3"
  },
  "language_info": {
   "codemirror_mode": {
    "name": "ipython",
    "version": 3
   },
   "file_extension": ".py",
   "mimetype": "text/x-python",
   "name": "python",
   "nbconvert_exporter": "python",
   "pygments_lexer": "ipython3",
   "version": "3.10.16"
  }
 },
 "nbformat": 4,
 "nbformat_minor": 5
}
